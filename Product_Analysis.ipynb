{
  "nbformat": 4,
  "nbformat_minor": 0,
  "metadata": {
    "colab": {
      "provenance": [],
      "authorship_tag": "ABX9TyMm2AahCbTbxdgfVGlA0SZE",
      "include_colab_link": true
    },
    "kernelspec": {
      "name": "python3",
      "display_name": "Python 3"
    },
    "language_info": {
      "name": "python"
    }
  },
  "cells": [
    {
      "cell_type": "markdown",
      "metadata": {
        "id": "view-in-github",
        "colab_type": "text"
      },
      "source": [
        "<a href=\"https://colab.research.google.com/github/Rajat-Sri/Myntra_product_analysis/blob/main/Product_Analysis.ipynb\" target=\"_parent\"><img src=\"https://colab.research.google.com/assets/colab-badge.svg\" alt=\"Open In Colab\"/></a>"
      ]
    },
    {
      "cell_type": "markdown",
      "source": [
        "# **EDA on Myntra Product Dataset**"
      ],
      "metadata": {
        "id": "lAif7m3UVyI1"
      }
    },
    {
      "cell_type": "markdown",
      "source": [
        "##Dataset first view"
      ],
      "metadata": {
        "id": "EeOYS7KeJqa8"
      }
    },
    {
      "cell_type": "code",
      "source": [
        "import numpy as np\n",
        "import pandas as pd\n",
        "import seaborn as sns\n",
        "import matplotlib.pyplot as plt"
      ],
      "metadata": {
        "id": "zMpQSllRYWIw"
      },
      "execution_count": 227,
      "outputs": []
    },
    {
      "cell_type": "code",
      "source": [
        "from google.colab import drive\n",
        "drive.mount('/content/drive')"
      ],
      "metadata": {
        "colab": {
          "base_uri": "https://localhost:8080/"
        },
        "id": "Kj-lErIjVycZ",
        "outputId": "bdb8bdf8-57ab-4394-91af-eb936456a252"
      },
      "execution_count": 228,
      "outputs": [
        {
          "output_type": "stream",
          "name": "stdout",
          "text": [
            "Drive already mounted at /content/drive; to attempt to forcibly remount, call drive.mount(\"/content/drive\", force_remount=True).\n"
          ]
        }
      ]
    },
    {
      "cell_type": "code",
      "source": [
        "import pandas as pd\n",
        "df = pd.read_csv('/content/drive/MyDrive/Almabetter/Capstone Projects/EDA/myntra product analysis/data.csv')"
      ],
      "metadata": {
        "id": "uXZaq_7GVyqH"
      },
      "execution_count": 229,
      "outputs": []
    },
    {
      "cell_type": "code",
      "source": [
        "df.head()"
      ],
      "metadata": {
        "colab": {
          "base_uri": "https://localhost:8080/",
          "height": 0
        },
        "id": "vukxUFr7WzYB",
        "outputId": "eeb677f9-598b-4740-a8d9-f1d67f7a2f5c"
      },
      "execution_count": 230,
      "outputs": [
        {
          "output_type": "execute_result",
          "data": {
            "text/plain": [
              "                     product_name      brand_name  rating  rating_count  \\\n",
              "0   Croc Textured Two Fold Wallet     Lino Perros     0.0             0   \n",
              "1             Men Striped Sliders  Mast & Harbour     4.0            76   \n",
              "2            Printed A-line Kurta            Biba     4.3            66   \n",
              "3    Girls Floral Printed T-shirt        Anthrilo     0.0             0   \n",
              "4  Women Printed Kurta with Skirt    FASHION DWAR     0.0             0   \n",
              "\n",
              "   marked_price  discounted_price                      sizes  \\\n",
              "0          1295               828                    Onesize   \n",
              "1          1299               584  UK6,UK7,UK8,UK9,UK10,UK11   \n",
              "2          1999              1599           S,M,L,XL,XXL,3XL   \n",
              "3           599               539            7-8Y,8-9Y,9-10Y   \n",
              "4          2899              2899                   S,M,L,XL   \n",
              "\n",
              "                                        product_link  \\\n",
              "0  wallets/lino-perros/lino-perros-women-peach-co...   \n",
              "1  flip-flops/mast--harbour/mast--harbour-men-nav...   \n",
              "2  kurtas/biba/biba-women-off-white--black-printe...   \n",
              "3  tshirts/anthrilo/anthrilo-girls-white-floral-p...   \n",
              "4  kurta-sets/fashion-dwar/fashion-dwar-women-mul...   \n",
              "\n",
              "                                            img_link product_tag  \\\n",
              "0  https://assets.myntassets.com/dpr_2,q_60,w_210...     wallets   \n",
              "1  https://assets.myntassets.com/dpr_2,q_60,w_210...  flip-flops   \n",
              "2  https://assets.myntassets.com/dpr_2,q_60,w_210...      kurtas   \n",
              "3  https://assets.myntassets.com/dpr_2,q_60,w_210...     tshirts   \n",
              "4  https://assets.myntassets.com/dpr_2,q_60,w_210...  kurta-sets   \n",
              "\n",
              "       brand_tag  discount_amount  discount_percent  \n",
              "0    lino-perros              467                36  \n",
              "1  mast--harbour              715                55  \n",
              "2           biba              400                20  \n",
              "3       anthrilo               60                10  \n",
              "4   fashion-dwar                0                 0  "
            ],
            "text/html": [
              "\n",
              "  <div id=\"df-9b8a9618-db2d-485b-88d0-5f0e9f573f46\">\n",
              "    <div class=\"colab-df-container\">\n",
              "      <div>\n",
              "<style scoped>\n",
              "    .dataframe tbody tr th:only-of-type {\n",
              "        vertical-align: middle;\n",
              "    }\n",
              "\n",
              "    .dataframe tbody tr th {\n",
              "        vertical-align: top;\n",
              "    }\n",
              "\n",
              "    .dataframe thead th {\n",
              "        text-align: right;\n",
              "    }\n",
              "</style>\n",
              "<table border=\"1\" class=\"dataframe\">\n",
              "  <thead>\n",
              "    <tr style=\"text-align: right;\">\n",
              "      <th></th>\n",
              "      <th>product_name</th>\n",
              "      <th>brand_name</th>\n",
              "      <th>rating</th>\n",
              "      <th>rating_count</th>\n",
              "      <th>marked_price</th>\n",
              "      <th>discounted_price</th>\n",
              "      <th>sizes</th>\n",
              "      <th>product_link</th>\n",
              "      <th>img_link</th>\n",
              "      <th>product_tag</th>\n",
              "      <th>brand_tag</th>\n",
              "      <th>discount_amount</th>\n",
              "      <th>discount_percent</th>\n",
              "    </tr>\n",
              "  </thead>\n",
              "  <tbody>\n",
              "    <tr>\n",
              "      <th>0</th>\n",
              "      <td>Croc Textured Two Fold Wallet</td>\n",
              "      <td>Lino Perros</td>\n",
              "      <td>0.0</td>\n",
              "      <td>0</td>\n",
              "      <td>1295</td>\n",
              "      <td>828</td>\n",
              "      <td>Onesize</td>\n",
              "      <td>wallets/lino-perros/lino-perros-women-peach-co...</td>\n",
              "      <td>https://assets.myntassets.com/dpr_2,q_60,w_210...</td>\n",
              "      <td>wallets</td>\n",
              "      <td>lino-perros</td>\n",
              "      <td>467</td>\n",
              "      <td>36</td>\n",
              "    </tr>\n",
              "    <tr>\n",
              "      <th>1</th>\n",
              "      <td>Men Striped Sliders</td>\n",
              "      <td>Mast &amp; Harbour</td>\n",
              "      <td>4.0</td>\n",
              "      <td>76</td>\n",
              "      <td>1299</td>\n",
              "      <td>584</td>\n",
              "      <td>UK6,UK7,UK8,UK9,UK10,UK11</td>\n",
              "      <td>flip-flops/mast--harbour/mast--harbour-men-nav...</td>\n",
              "      <td>https://assets.myntassets.com/dpr_2,q_60,w_210...</td>\n",
              "      <td>flip-flops</td>\n",
              "      <td>mast--harbour</td>\n",
              "      <td>715</td>\n",
              "      <td>55</td>\n",
              "    </tr>\n",
              "    <tr>\n",
              "      <th>2</th>\n",
              "      <td>Printed A-line Kurta</td>\n",
              "      <td>Biba</td>\n",
              "      <td>4.3</td>\n",
              "      <td>66</td>\n",
              "      <td>1999</td>\n",
              "      <td>1599</td>\n",
              "      <td>S,M,L,XL,XXL,3XL</td>\n",
              "      <td>kurtas/biba/biba-women-off-white--black-printe...</td>\n",
              "      <td>https://assets.myntassets.com/dpr_2,q_60,w_210...</td>\n",
              "      <td>kurtas</td>\n",
              "      <td>biba</td>\n",
              "      <td>400</td>\n",
              "      <td>20</td>\n",
              "    </tr>\n",
              "    <tr>\n",
              "      <th>3</th>\n",
              "      <td>Girls Floral Printed T-shirt</td>\n",
              "      <td>Anthrilo</td>\n",
              "      <td>0.0</td>\n",
              "      <td>0</td>\n",
              "      <td>599</td>\n",
              "      <td>539</td>\n",
              "      <td>7-8Y,8-9Y,9-10Y</td>\n",
              "      <td>tshirts/anthrilo/anthrilo-girls-white-floral-p...</td>\n",
              "      <td>https://assets.myntassets.com/dpr_2,q_60,w_210...</td>\n",
              "      <td>tshirts</td>\n",
              "      <td>anthrilo</td>\n",
              "      <td>60</td>\n",
              "      <td>10</td>\n",
              "    </tr>\n",
              "    <tr>\n",
              "      <th>4</th>\n",
              "      <td>Women Printed Kurta with Skirt</td>\n",
              "      <td>FASHION DWAR</td>\n",
              "      <td>0.0</td>\n",
              "      <td>0</td>\n",
              "      <td>2899</td>\n",
              "      <td>2899</td>\n",
              "      <td>S,M,L,XL</td>\n",
              "      <td>kurta-sets/fashion-dwar/fashion-dwar-women-mul...</td>\n",
              "      <td>https://assets.myntassets.com/dpr_2,q_60,w_210...</td>\n",
              "      <td>kurta-sets</td>\n",
              "      <td>fashion-dwar</td>\n",
              "      <td>0</td>\n",
              "      <td>0</td>\n",
              "    </tr>\n",
              "  </tbody>\n",
              "</table>\n",
              "</div>\n",
              "      <button class=\"colab-df-convert\" onclick=\"convertToInteractive('df-9b8a9618-db2d-485b-88d0-5f0e9f573f46')\"\n",
              "              title=\"Convert this dataframe to an interactive table.\"\n",
              "              style=\"display:none;\">\n",
              "        \n",
              "  <svg xmlns=\"http://www.w3.org/2000/svg\" height=\"24px\"viewBox=\"0 0 24 24\"\n",
              "       width=\"24px\">\n",
              "    <path d=\"M0 0h24v24H0V0z\" fill=\"none\"/>\n",
              "    <path d=\"M18.56 5.44l.94 2.06.94-2.06 2.06-.94-2.06-.94-.94-2.06-.94 2.06-2.06.94zm-11 1L8.5 8.5l.94-2.06 2.06-.94-2.06-.94L8.5 2.5l-.94 2.06-2.06.94zm10 10l.94 2.06.94-2.06 2.06-.94-2.06-.94-.94-2.06-.94 2.06-2.06.94z\"/><path d=\"M17.41 7.96l-1.37-1.37c-.4-.4-.92-.59-1.43-.59-.52 0-1.04.2-1.43.59L10.3 9.45l-7.72 7.72c-.78.78-.78 2.05 0 2.83L4 21.41c.39.39.9.59 1.41.59.51 0 1.02-.2 1.41-.59l7.78-7.78 2.81-2.81c.8-.78.8-2.07 0-2.86zM5.41 20L4 18.59l7.72-7.72 1.47 1.35L5.41 20z\"/>\n",
              "  </svg>\n",
              "      </button>\n",
              "      \n",
              "  <style>\n",
              "    .colab-df-container {\n",
              "      display:flex;\n",
              "      flex-wrap:wrap;\n",
              "      gap: 12px;\n",
              "    }\n",
              "\n",
              "    .colab-df-convert {\n",
              "      background-color: #E8F0FE;\n",
              "      border: none;\n",
              "      border-radius: 50%;\n",
              "      cursor: pointer;\n",
              "      display: none;\n",
              "      fill: #1967D2;\n",
              "      height: 32px;\n",
              "      padding: 0 0 0 0;\n",
              "      width: 32px;\n",
              "    }\n",
              "\n",
              "    .colab-df-convert:hover {\n",
              "      background-color: #E2EBFA;\n",
              "      box-shadow: 0px 1px 2px rgba(60, 64, 67, 0.3), 0px 1px 3px 1px rgba(60, 64, 67, 0.15);\n",
              "      fill: #174EA6;\n",
              "    }\n",
              "\n",
              "    [theme=dark] .colab-df-convert {\n",
              "      background-color: #3B4455;\n",
              "      fill: #D2E3FC;\n",
              "    }\n",
              "\n",
              "    [theme=dark] .colab-df-convert:hover {\n",
              "      background-color: #434B5C;\n",
              "      box-shadow: 0px 1px 3px 1px rgba(0, 0, 0, 0.15);\n",
              "      filter: drop-shadow(0px 1px 2px rgba(0, 0, 0, 0.3));\n",
              "      fill: #FFFFFF;\n",
              "    }\n",
              "  </style>\n",
              "\n",
              "      <script>\n",
              "        const buttonEl =\n",
              "          document.querySelector('#df-9b8a9618-db2d-485b-88d0-5f0e9f573f46 button.colab-df-convert');\n",
              "        buttonEl.style.display =\n",
              "          google.colab.kernel.accessAllowed ? 'block' : 'none';\n",
              "\n",
              "        async function convertToInteractive(key) {\n",
              "          const element = document.querySelector('#df-9b8a9618-db2d-485b-88d0-5f0e9f573f46');\n",
              "          const dataTable =\n",
              "            await google.colab.kernel.invokeFunction('convertToInteractive',\n",
              "                                                     [key], {});\n",
              "          if (!dataTable) return;\n",
              "\n",
              "          const docLinkHtml = 'Like what you see? Visit the ' +\n",
              "            '<a target=\"_blank\" href=https://colab.research.google.com/notebooks/data_table.ipynb>data table notebook</a>'\n",
              "            + ' to learn more about interactive tables.';\n",
              "          element.innerHTML = '';\n",
              "          dataTable['output_type'] = 'display_data';\n",
              "          await google.colab.output.renderOutput(dataTable, element);\n",
              "          const docLink = document.createElement('div');\n",
              "          docLink.innerHTML = docLinkHtml;\n",
              "          element.appendChild(docLink);\n",
              "        }\n",
              "      </script>\n",
              "    </div>\n",
              "  </div>\n",
              "  "
            ]
          },
          "metadata": {},
          "execution_count": 230
        }
      ]
    },
    {
      "cell_type": "code",
      "source": [
        "df.shape"
      ],
      "metadata": {
        "colab": {
          "base_uri": "https://localhost:8080/"
        },
        "id": "rrsCOfpuKGGu",
        "outputId": "687363e8-08b1-4148-c85a-c33211f79143"
      },
      "execution_count": 231,
      "outputs": [
        {
          "output_type": "execute_result",
          "data": {
            "text/plain": [
              "(168029, 13)"
            ]
          },
          "metadata": {},
          "execution_count": 231
        }
      ]
    },
    {
      "cell_type": "code",
      "source": [
        "df.isnull().sum()"
      ],
      "metadata": {
        "colab": {
          "base_uri": "https://localhost:8080/"
        },
        "id": "qZY_5T0IJ0Hq",
        "outputId": "fd339826-138c-4147-dd98-20c5c40dd57c"
      },
      "execution_count": 232,
      "outputs": [
        {
          "output_type": "execute_result",
          "data": {
            "text/plain": [
              "product_name        0\n",
              "brand_name          0\n",
              "rating              0\n",
              "rating_count        0\n",
              "marked_price        0\n",
              "discounted_price    0\n",
              "sizes               0\n",
              "product_link        0\n",
              "img_link            0\n",
              "product_tag         0\n",
              "brand_tag           0\n",
              "discount_amount     0\n",
              "discount_percent    0\n",
              "dtype: int64"
            ]
          },
          "metadata": {},
          "execution_count": 232
        }
      ]
    },
    {
      "cell_type": "code",
      "source": [
        "# count the number of duplicate rows\n",
        "duplicates = df.duplicated().sum()\n",
        "duplicates"
      ],
      "metadata": {
        "colab": {
          "base_uri": "https://localhost:8080/"
        },
        "id": "bDTSu691J7S6",
        "outputId": "ad751725-5174-4e7f-dc8d-76c25a6c8c14"
      },
      "execution_count": 233,
      "outputs": [
        {
          "output_type": "execute_result",
          "data": {
            "text/plain": [
              "21418"
            ]
          },
          "metadata": {},
          "execution_count": 233
        }
      ]
    },
    {
      "cell_type": "code",
      "source": [
        "# drop the duplicate rows and assign the result back to df\n",
        "df.drop_duplicates(inplace=True)"
      ],
      "metadata": {
        "id": "1JUWioCHKTnI"
      },
      "execution_count": 234,
      "outputs": []
    },
    {
      "cell_type": "code",
      "source": [
        "df.describe()"
      ],
      "metadata": {
        "colab": {
          "base_uri": "https://localhost:8080/",
          "height": 0
        },
        "id": "szvO74yYK799",
        "outputId": "f36d8c73-9eb7-4ec9-82d9-33c1ac065155"
      },
      "execution_count": 235,
      "outputs": [
        {
          "output_type": "execute_result",
          "data": {
            "text/plain": [
              "              rating   rating_count   marked_price  discounted_price  \\\n",
              "count  146611.000000  146611.000000  146611.000000     146611.000000   \n",
              "mean        2.317154     123.589219    2525.860379       1532.622675   \n",
              "std         2.097438     817.995615    2437.720930       1842.427134   \n",
              "min         0.000000       0.000000      50.000000         49.000000   \n",
              "25%         0.000000       0.000000    1299.000000        679.000000   \n",
              "50%         3.600000       6.000000    1999.000000       1012.000000   \n",
              "75%         4.300000      34.000000    2999.000000       1749.000000   \n",
              "max         5.000000   55900.000000  113999.000000      45900.000000   \n",
              "\n",
              "       discount_amount  discount_percent  \n",
              "count    146611.000000     146611.000000  \n",
              "mean        993.237704         37.147765  \n",
              "std        1235.525991         24.594289  \n",
              "min           0.000000          0.000000  \n",
              "25%         210.000000         15.000000  \n",
              "50%         702.000000         40.000000  \n",
              "75%        1317.000000         59.000000  \n",
              "max       68400.000000         91.000000  "
            ],
            "text/html": [
              "\n",
              "  <div id=\"df-ca3b2bd6-f5f8-4216-b7c7-a6d7a603a407\">\n",
              "    <div class=\"colab-df-container\">\n",
              "      <div>\n",
              "<style scoped>\n",
              "    .dataframe tbody tr th:only-of-type {\n",
              "        vertical-align: middle;\n",
              "    }\n",
              "\n",
              "    .dataframe tbody tr th {\n",
              "        vertical-align: top;\n",
              "    }\n",
              "\n",
              "    .dataframe thead th {\n",
              "        text-align: right;\n",
              "    }\n",
              "</style>\n",
              "<table border=\"1\" class=\"dataframe\">\n",
              "  <thead>\n",
              "    <tr style=\"text-align: right;\">\n",
              "      <th></th>\n",
              "      <th>rating</th>\n",
              "      <th>rating_count</th>\n",
              "      <th>marked_price</th>\n",
              "      <th>discounted_price</th>\n",
              "      <th>discount_amount</th>\n",
              "      <th>discount_percent</th>\n",
              "    </tr>\n",
              "  </thead>\n",
              "  <tbody>\n",
              "    <tr>\n",
              "      <th>count</th>\n",
              "      <td>146611.000000</td>\n",
              "      <td>146611.000000</td>\n",
              "      <td>146611.000000</td>\n",
              "      <td>146611.000000</td>\n",
              "      <td>146611.000000</td>\n",
              "      <td>146611.000000</td>\n",
              "    </tr>\n",
              "    <tr>\n",
              "      <th>mean</th>\n",
              "      <td>2.317154</td>\n",
              "      <td>123.589219</td>\n",
              "      <td>2525.860379</td>\n",
              "      <td>1532.622675</td>\n",
              "      <td>993.237704</td>\n",
              "      <td>37.147765</td>\n",
              "    </tr>\n",
              "    <tr>\n",
              "      <th>std</th>\n",
              "      <td>2.097438</td>\n",
              "      <td>817.995615</td>\n",
              "      <td>2437.720930</td>\n",
              "      <td>1842.427134</td>\n",
              "      <td>1235.525991</td>\n",
              "      <td>24.594289</td>\n",
              "    </tr>\n",
              "    <tr>\n",
              "      <th>min</th>\n",
              "      <td>0.000000</td>\n",
              "      <td>0.000000</td>\n",
              "      <td>50.000000</td>\n",
              "      <td>49.000000</td>\n",
              "      <td>0.000000</td>\n",
              "      <td>0.000000</td>\n",
              "    </tr>\n",
              "    <tr>\n",
              "      <th>25%</th>\n",
              "      <td>0.000000</td>\n",
              "      <td>0.000000</td>\n",
              "      <td>1299.000000</td>\n",
              "      <td>679.000000</td>\n",
              "      <td>210.000000</td>\n",
              "      <td>15.000000</td>\n",
              "    </tr>\n",
              "    <tr>\n",
              "      <th>50%</th>\n",
              "      <td>3.600000</td>\n",
              "      <td>6.000000</td>\n",
              "      <td>1999.000000</td>\n",
              "      <td>1012.000000</td>\n",
              "      <td>702.000000</td>\n",
              "      <td>40.000000</td>\n",
              "    </tr>\n",
              "    <tr>\n",
              "      <th>75%</th>\n",
              "      <td>4.300000</td>\n",
              "      <td>34.000000</td>\n",
              "      <td>2999.000000</td>\n",
              "      <td>1749.000000</td>\n",
              "      <td>1317.000000</td>\n",
              "      <td>59.000000</td>\n",
              "    </tr>\n",
              "    <tr>\n",
              "      <th>max</th>\n",
              "      <td>5.000000</td>\n",
              "      <td>55900.000000</td>\n",
              "      <td>113999.000000</td>\n",
              "      <td>45900.000000</td>\n",
              "      <td>68400.000000</td>\n",
              "      <td>91.000000</td>\n",
              "    </tr>\n",
              "  </tbody>\n",
              "</table>\n",
              "</div>\n",
              "      <button class=\"colab-df-convert\" onclick=\"convertToInteractive('df-ca3b2bd6-f5f8-4216-b7c7-a6d7a603a407')\"\n",
              "              title=\"Convert this dataframe to an interactive table.\"\n",
              "              style=\"display:none;\">\n",
              "        \n",
              "  <svg xmlns=\"http://www.w3.org/2000/svg\" height=\"24px\"viewBox=\"0 0 24 24\"\n",
              "       width=\"24px\">\n",
              "    <path d=\"M0 0h24v24H0V0z\" fill=\"none\"/>\n",
              "    <path d=\"M18.56 5.44l.94 2.06.94-2.06 2.06-.94-2.06-.94-.94-2.06-.94 2.06-2.06.94zm-11 1L8.5 8.5l.94-2.06 2.06-.94-2.06-.94L8.5 2.5l-.94 2.06-2.06.94zm10 10l.94 2.06.94-2.06 2.06-.94-2.06-.94-.94-2.06-.94 2.06-2.06.94z\"/><path d=\"M17.41 7.96l-1.37-1.37c-.4-.4-.92-.59-1.43-.59-.52 0-1.04.2-1.43.59L10.3 9.45l-7.72 7.72c-.78.78-.78 2.05 0 2.83L4 21.41c.39.39.9.59 1.41.59.51 0 1.02-.2 1.41-.59l7.78-7.78 2.81-2.81c.8-.78.8-2.07 0-2.86zM5.41 20L4 18.59l7.72-7.72 1.47 1.35L5.41 20z\"/>\n",
              "  </svg>\n",
              "      </button>\n",
              "      \n",
              "  <style>\n",
              "    .colab-df-container {\n",
              "      display:flex;\n",
              "      flex-wrap:wrap;\n",
              "      gap: 12px;\n",
              "    }\n",
              "\n",
              "    .colab-df-convert {\n",
              "      background-color: #E8F0FE;\n",
              "      border: none;\n",
              "      border-radius: 50%;\n",
              "      cursor: pointer;\n",
              "      display: none;\n",
              "      fill: #1967D2;\n",
              "      height: 32px;\n",
              "      padding: 0 0 0 0;\n",
              "      width: 32px;\n",
              "    }\n",
              "\n",
              "    .colab-df-convert:hover {\n",
              "      background-color: #E2EBFA;\n",
              "      box-shadow: 0px 1px 2px rgba(60, 64, 67, 0.3), 0px 1px 3px 1px rgba(60, 64, 67, 0.15);\n",
              "      fill: #174EA6;\n",
              "    }\n",
              "\n",
              "    [theme=dark] .colab-df-convert {\n",
              "      background-color: #3B4455;\n",
              "      fill: #D2E3FC;\n",
              "    }\n",
              "\n",
              "    [theme=dark] .colab-df-convert:hover {\n",
              "      background-color: #434B5C;\n",
              "      box-shadow: 0px 1px 3px 1px rgba(0, 0, 0, 0.15);\n",
              "      filter: drop-shadow(0px 1px 2px rgba(0, 0, 0, 0.3));\n",
              "      fill: #FFFFFF;\n",
              "    }\n",
              "  </style>\n",
              "\n",
              "      <script>\n",
              "        const buttonEl =\n",
              "          document.querySelector('#df-ca3b2bd6-f5f8-4216-b7c7-a6d7a603a407 button.colab-df-convert');\n",
              "        buttonEl.style.display =\n",
              "          google.colab.kernel.accessAllowed ? 'block' : 'none';\n",
              "\n",
              "        async function convertToInteractive(key) {\n",
              "          const element = document.querySelector('#df-ca3b2bd6-f5f8-4216-b7c7-a6d7a603a407');\n",
              "          const dataTable =\n",
              "            await google.colab.kernel.invokeFunction('convertToInteractive',\n",
              "                                                     [key], {});\n",
              "          if (!dataTable) return;\n",
              "\n",
              "          const docLinkHtml = 'Like what you see? Visit the ' +\n",
              "            '<a target=\"_blank\" href=https://colab.research.google.com/notebooks/data_table.ipynb>data table notebook</a>'\n",
              "            + ' to learn more about interactive tables.';\n",
              "          element.innerHTML = '';\n",
              "          dataTable['output_type'] = 'display_data';\n",
              "          await google.colab.output.renderOutput(dataTable, element);\n",
              "          const docLink = document.createElement('div');\n",
              "          docLink.innerHTML = docLinkHtml;\n",
              "          element.appendChild(docLink);\n",
              "        }\n",
              "      </script>\n",
              "    </div>\n",
              "  </div>\n",
              "  "
            ]
          },
          "metadata": {},
          "execution_count": 235
        }
      ]
    },
    {
      "cell_type": "markdown",
      "source": [
        "## 1. How many unique products are there in the dataset?\n",
        "\n",
        "- You need to find product ID of each product from product_link and then find the number of unique product ids\n",
        "\n",
        "- Finding Unique Products as per their Product ID\n",
        "Removing Products with Duplicate Product ID"
      ],
      "metadata": {
        "id": "_LJsfEadEVtJ"
      }
    },
    {
      "cell_type": "code",
      "source": [
        "# Define a function to extract the product ID from the link\n",
        "def extract_product_id(link):\n",
        "    return link.split('/')[-2]\n",
        "\n",
        "# Apply the function to the 'product_link' column to create a new 'product_id' column\n",
        "df['product_id'] = df['product_link'].apply(extract_product_id)\n",
        "\n",
        "# Check the first 5 rows of the DataFrame to see if the product ID was extracted correctly\n",
        "df.head()"
      ],
      "metadata": {
        "colab": {
          "base_uri": "https://localhost:8080/",
          "height": 426
        },
        "id": "RA79A0QxEA28",
        "outputId": "e6c4b2a9-e468-4f56-c8f0-a07be2d93436"
      },
      "execution_count": 236,
      "outputs": [
        {
          "output_type": "execute_result",
          "data": {
            "text/plain": [
              "                     product_name      brand_name  rating  rating_count  \\\n",
              "0   Croc Textured Two Fold Wallet     Lino Perros     0.0             0   \n",
              "1             Men Striped Sliders  Mast & Harbour     4.0            76   \n",
              "2            Printed A-line Kurta            Biba     4.3            66   \n",
              "3    Girls Floral Printed T-shirt        Anthrilo     0.0             0   \n",
              "4  Women Printed Kurta with Skirt    FASHION DWAR     0.0             0   \n",
              "\n",
              "   marked_price  discounted_price                      sizes  \\\n",
              "0          1295               828                    Onesize   \n",
              "1          1299               584  UK6,UK7,UK8,UK9,UK10,UK11   \n",
              "2          1999              1599           S,M,L,XL,XXL,3XL   \n",
              "3           599               539            7-8Y,8-9Y,9-10Y   \n",
              "4          2899              2899                   S,M,L,XL   \n",
              "\n",
              "                                        product_link  \\\n",
              "0  wallets/lino-perros/lino-perros-women-peach-co...   \n",
              "1  flip-flops/mast--harbour/mast--harbour-men-nav...   \n",
              "2  kurtas/biba/biba-women-off-white--black-printe...   \n",
              "3  tshirts/anthrilo/anthrilo-girls-white-floral-p...   \n",
              "4  kurta-sets/fashion-dwar/fashion-dwar-women-mul...   \n",
              "\n",
              "                                            img_link product_tag  \\\n",
              "0  https://assets.myntassets.com/dpr_2,q_60,w_210...     wallets   \n",
              "1  https://assets.myntassets.com/dpr_2,q_60,w_210...  flip-flops   \n",
              "2  https://assets.myntassets.com/dpr_2,q_60,w_210...      kurtas   \n",
              "3  https://assets.myntassets.com/dpr_2,q_60,w_210...     tshirts   \n",
              "4  https://assets.myntassets.com/dpr_2,q_60,w_210...  kurta-sets   \n",
              "\n",
              "       brand_tag  discount_amount  discount_percent product_id  \n",
              "0    lino-perros              467                36   18070682  \n",
              "1  mast--harbour              715                55   12548958  \n",
              "2           biba              400                20   13446092  \n",
              "3       anthrilo               60                10   18017006  \n",
              "4   fashion-dwar                0                 0   18015232  "
            ],
            "text/html": [
              "\n",
              "  <div id=\"df-afbb6097-a6b4-44e8-ac8b-e88671760ea6\">\n",
              "    <div class=\"colab-df-container\">\n",
              "      <div>\n",
              "<style scoped>\n",
              "    .dataframe tbody tr th:only-of-type {\n",
              "        vertical-align: middle;\n",
              "    }\n",
              "\n",
              "    .dataframe tbody tr th {\n",
              "        vertical-align: top;\n",
              "    }\n",
              "\n",
              "    .dataframe thead th {\n",
              "        text-align: right;\n",
              "    }\n",
              "</style>\n",
              "<table border=\"1\" class=\"dataframe\">\n",
              "  <thead>\n",
              "    <tr style=\"text-align: right;\">\n",
              "      <th></th>\n",
              "      <th>product_name</th>\n",
              "      <th>brand_name</th>\n",
              "      <th>rating</th>\n",
              "      <th>rating_count</th>\n",
              "      <th>marked_price</th>\n",
              "      <th>discounted_price</th>\n",
              "      <th>sizes</th>\n",
              "      <th>product_link</th>\n",
              "      <th>img_link</th>\n",
              "      <th>product_tag</th>\n",
              "      <th>brand_tag</th>\n",
              "      <th>discount_amount</th>\n",
              "      <th>discount_percent</th>\n",
              "      <th>product_id</th>\n",
              "    </tr>\n",
              "  </thead>\n",
              "  <tbody>\n",
              "    <tr>\n",
              "      <th>0</th>\n",
              "      <td>Croc Textured Two Fold Wallet</td>\n",
              "      <td>Lino Perros</td>\n",
              "      <td>0.0</td>\n",
              "      <td>0</td>\n",
              "      <td>1295</td>\n",
              "      <td>828</td>\n",
              "      <td>Onesize</td>\n",
              "      <td>wallets/lino-perros/lino-perros-women-peach-co...</td>\n",
              "      <td>https://assets.myntassets.com/dpr_2,q_60,w_210...</td>\n",
              "      <td>wallets</td>\n",
              "      <td>lino-perros</td>\n",
              "      <td>467</td>\n",
              "      <td>36</td>\n",
              "      <td>18070682</td>\n",
              "    </tr>\n",
              "    <tr>\n",
              "      <th>1</th>\n",
              "      <td>Men Striped Sliders</td>\n",
              "      <td>Mast &amp; Harbour</td>\n",
              "      <td>4.0</td>\n",
              "      <td>76</td>\n",
              "      <td>1299</td>\n",
              "      <td>584</td>\n",
              "      <td>UK6,UK7,UK8,UK9,UK10,UK11</td>\n",
              "      <td>flip-flops/mast--harbour/mast--harbour-men-nav...</td>\n",
              "      <td>https://assets.myntassets.com/dpr_2,q_60,w_210...</td>\n",
              "      <td>flip-flops</td>\n",
              "      <td>mast--harbour</td>\n",
              "      <td>715</td>\n",
              "      <td>55</td>\n",
              "      <td>12548958</td>\n",
              "    </tr>\n",
              "    <tr>\n",
              "      <th>2</th>\n",
              "      <td>Printed A-line Kurta</td>\n",
              "      <td>Biba</td>\n",
              "      <td>4.3</td>\n",
              "      <td>66</td>\n",
              "      <td>1999</td>\n",
              "      <td>1599</td>\n",
              "      <td>S,M,L,XL,XXL,3XL</td>\n",
              "      <td>kurtas/biba/biba-women-off-white--black-printe...</td>\n",
              "      <td>https://assets.myntassets.com/dpr_2,q_60,w_210...</td>\n",
              "      <td>kurtas</td>\n",
              "      <td>biba</td>\n",
              "      <td>400</td>\n",
              "      <td>20</td>\n",
              "      <td>13446092</td>\n",
              "    </tr>\n",
              "    <tr>\n",
              "      <th>3</th>\n",
              "      <td>Girls Floral Printed T-shirt</td>\n",
              "      <td>Anthrilo</td>\n",
              "      <td>0.0</td>\n",
              "      <td>0</td>\n",
              "      <td>599</td>\n",
              "      <td>539</td>\n",
              "      <td>7-8Y,8-9Y,9-10Y</td>\n",
              "      <td>tshirts/anthrilo/anthrilo-girls-white-floral-p...</td>\n",
              "      <td>https://assets.myntassets.com/dpr_2,q_60,w_210...</td>\n",
              "      <td>tshirts</td>\n",
              "      <td>anthrilo</td>\n",
              "      <td>60</td>\n",
              "      <td>10</td>\n",
              "      <td>18017006</td>\n",
              "    </tr>\n",
              "    <tr>\n",
              "      <th>4</th>\n",
              "      <td>Women Printed Kurta with Skirt</td>\n",
              "      <td>FASHION DWAR</td>\n",
              "      <td>0.0</td>\n",
              "      <td>0</td>\n",
              "      <td>2899</td>\n",
              "      <td>2899</td>\n",
              "      <td>S,M,L,XL</td>\n",
              "      <td>kurta-sets/fashion-dwar/fashion-dwar-women-mul...</td>\n",
              "      <td>https://assets.myntassets.com/dpr_2,q_60,w_210...</td>\n",
              "      <td>kurta-sets</td>\n",
              "      <td>fashion-dwar</td>\n",
              "      <td>0</td>\n",
              "      <td>0</td>\n",
              "      <td>18015232</td>\n",
              "    </tr>\n",
              "  </tbody>\n",
              "</table>\n",
              "</div>\n",
              "      <button class=\"colab-df-convert\" onclick=\"convertToInteractive('df-afbb6097-a6b4-44e8-ac8b-e88671760ea6')\"\n",
              "              title=\"Convert this dataframe to an interactive table.\"\n",
              "              style=\"display:none;\">\n",
              "        \n",
              "  <svg xmlns=\"http://www.w3.org/2000/svg\" height=\"24px\"viewBox=\"0 0 24 24\"\n",
              "       width=\"24px\">\n",
              "    <path d=\"M0 0h24v24H0V0z\" fill=\"none\"/>\n",
              "    <path d=\"M18.56 5.44l.94 2.06.94-2.06 2.06-.94-2.06-.94-.94-2.06-.94 2.06-2.06.94zm-11 1L8.5 8.5l.94-2.06 2.06-.94-2.06-.94L8.5 2.5l-.94 2.06-2.06.94zm10 10l.94 2.06.94-2.06 2.06-.94-2.06-.94-.94-2.06-.94 2.06-2.06.94z\"/><path d=\"M17.41 7.96l-1.37-1.37c-.4-.4-.92-.59-1.43-.59-.52 0-1.04.2-1.43.59L10.3 9.45l-7.72 7.72c-.78.78-.78 2.05 0 2.83L4 21.41c.39.39.9.59 1.41.59.51 0 1.02-.2 1.41-.59l7.78-7.78 2.81-2.81c.8-.78.8-2.07 0-2.86zM5.41 20L4 18.59l7.72-7.72 1.47 1.35L5.41 20z\"/>\n",
              "  </svg>\n",
              "      </button>\n",
              "      \n",
              "  <style>\n",
              "    .colab-df-container {\n",
              "      display:flex;\n",
              "      flex-wrap:wrap;\n",
              "      gap: 12px;\n",
              "    }\n",
              "\n",
              "    .colab-df-convert {\n",
              "      background-color: #E8F0FE;\n",
              "      border: none;\n",
              "      border-radius: 50%;\n",
              "      cursor: pointer;\n",
              "      display: none;\n",
              "      fill: #1967D2;\n",
              "      height: 32px;\n",
              "      padding: 0 0 0 0;\n",
              "      width: 32px;\n",
              "    }\n",
              "\n",
              "    .colab-df-convert:hover {\n",
              "      background-color: #E2EBFA;\n",
              "      box-shadow: 0px 1px 2px rgba(60, 64, 67, 0.3), 0px 1px 3px 1px rgba(60, 64, 67, 0.15);\n",
              "      fill: #174EA6;\n",
              "    }\n",
              "\n",
              "    [theme=dark] .colab-df-convert {\n",
              "      background-color: #3B4455;\n",
              "      fill: #D2E3FC;\n",
              "    }\n",
              "\n",
              "    [theme=dark] .colab-df-convert:hover {\n",
              "      background-color: #434B5C;\n",
              "      box-shadow: 0px 1px 3px 1px rgba(0, 0, 0, 0.15);\n",
              "      filter: drop-shadow(0px 1px 2px rgba(0, 0, 0, 0.3));\n",
              "      fill: #FFFFFF;\n",
              "    }\n",
              "  </style>\n",
              "\n",
              "      <script>\n",
              "        const buttonEl =\n",
              "          document.querySelector('#df-afbb6097-a6b4-44e8-ac8b-e88671760ea6 button.colab-df-convert');\n",
              "        buttonEl.style.display =\n",
              "          google.colab.kernel.accessAllowed ? 'block' : 'none';\n",
              "\n",
              "        async function convertToInteractive(key) {\n",
              "          const element = document.querySelector('#df-afbb6097-a6b4-44e8-ac8b-e88671760ea6');\n",
              "          const dataTable =\n",
              "            await google.colab.kernel.invokeFunction('convertToInteractive',\n",
              "                                                     [key], {});\n",
              "          if (!dataTable) return;\n",
              "\n",
              "          const docLinkHtml = 'Like what you see? Visit the ' +\n",
              "            '<a target=\"_blank\" href=https://colab.research.google.com/notebooks/data_table.ipynb>data table notebook</a>'\n",
              "            + ' to learn more about interactive tables.';\n",
              "          element.innerHTML = '';\n",
              "          dataTable['output_type'] = 'display_data';\n",
              "          await google.colab.output.renderOutput(dataTable, element);\n",
              "          const docLink = document.createElement('div');\n",
              "          docLink.innerHTML = docLinkHtml;\n",
              "          element.appendChild(docLink);\n",
              "        }\n",
              "      </script>\n",
              "    </div>\n",
              "  </div>\n",
              "  "
            ]
          },
          "metadata": {},
          "execution_count": 236
        }
      ]
    },
    {
      "cell_type": "code",
      "source": [
        "# Reorder the columns to put the 'product_id' column first\n",
        "cols = df.columns.tolist()\n",
        "cols = ['product_id'] + [col for col in cols if col != 'product_id']\n",
        "df = df[cols]\n",
        "\n",
        "# Check the first 5 rows of the DataFrame to see if the product ID was extracted correctly\n",
        "df.head()"
      ],
      "metadata": {
        "colab": {
          "base_uri": "https://localhost:8080/",
          "height": 426
        },
        "id": "9eJQJslWEOTY",
        "outputId": "e5900f0e-9ac6-4210-867d-8b6171e29e6a"
      },
      "execution_count": 237,
      "outputs": [
        {
          "output_type": "execute_result",
          "data": {
            "text/plain": [
              "  product_id                    product_name      brand_name  rating  \\\n",
              "0   18070682   Croc Textured Two Fold Wallet     Lino Perros     0.0   \n",
              "1   12548958             Men Striped Sliders  Mast & Harbour     4.0   \n",
              "2   13446092            Printed A-line Kurta            Biba     4.3   \n",
              "3   18017006    Girls Floral Printed T-shirt        Anthrilo     0.0   \n",
              "4   18015232  Women Printed Kurta with Skirt    FASHION DWAR     0.0   \n",
              "\n",
              "   rating_count  marked_price  discounted_price                      sizes  \\\n",
              "0             0          1295               828                    Onesize   \n",
              "1            76          1299               584  UK6,UK7,UK8,UK9,UK10,UK11   \n",
              "2            66          1999              1599           S,M,L,XL,XXL,3XL   \n",
              "3             0           599               539            7-8Y,8-9Y,9-10Y   \n",
              "4             0          2899              2899                   S,M,L,XL   \n",
              "\n",
              "                                        product_link  \\\n",
              "0  wallets/lino-perros/lino-perros-women-peach-co...   \n",
              "1  flip-flops/mast--harbour/mast--harbour-men-nav...   \n",
              "2  kurtas/biba/biba-women-off-white--black-printe...   \n",
              "3  tshirts/anthrilo/anthrilo-girls-white-floral-p...   \n",
              "4  kurta-sets/fashion-dwar/fashion-dwar-women-mul...   \n",
              "\n",
              "                                            img_link product_tag  \\\n",
              "0  https://assets.myntassets.com/dpr_2,q_60,w_210...     wallets   \n",
              "1  https://assets.myntassets.com/dpr_2,q_60,w_210...  flip-flops   \n",
              "2  https://assets.myntassets.com/dpr_2,q_60,w_210...      kurtas   \n",
              "3  https://assets.myntassets.com/dpr_2,q_60,w_210...     tshirts   \n",
              "4  https://assets.myntassets.com/dpr_2,q_60,w_210...  kurta-sets   \n",
              "\n",
              "       brand_tag  discount_amount  discount_percent  \n",
              "0    lino-perros              467                36  \n",
              "1  mast--harbour              715                55  \n",
              "2           biba              400                20  \n",
              "3       anthrilo               60                10  \n",
              "4   fashion-dwar                0                 0  "
            ],
            "text/html": [
              "\n",
              "  <div id=\"df-439d6444-1944-4b2e-b978-166638ee3bf7\">\n",
              "    <div class=\"colab-df-container\">\n",
              "      <div>\n",
              "<style scoped>\n",
              "    .dataframe tbody tr th:only-of-type {\n",
              "        vertical-align: middle;\n",
              "    }\n",
              "\n",
              "    .dataframe tbody tr th {\n",
              "        vertical-align: top;\n",
              "    }\n",
              "\n",
              "    .dataframe thead th {\n",
              "        text-align: right;\n",
              "    }\n",
              "</style>\n",
              "<table border=\"1\" class=\"dataframe\">\n",
              "  <thead>\n",
              "    <tr style=\"text-align: right;\">\n",
              "      <th></th>\n",
              "      <th>product_id</th>\n",
              "      <th>product_name</th>\n",
              "      <th>brand_name</th>\n",
              "      <th>rating</th>\n",
              "      <th>rating_count</th>\n",
              "      <th>marked_price</th>\n",
              "      <th>discounted_price</th>\n",
              "      <th>sizes</th>\n",
              "      <th>product_link</th>\n",
              "      <th>img_link</th>\n",
              "      <th>product_tag</th>\n",
              "      <th>brand_tag</th>\n",
              "      <th>discount_amount</th>\n",
              "      <th>discount_percent</th>\n",
              "    </tr>\n",
              "  </thead>\n",
              "  <tbody>\n",
              "    <tr>\n",
              "      <th>0</th>\n",
              "      <td>18070682</td>\n",
              "      <td>Croc Textured Two Fold Wallet</td>\n",
              "      <td>Lino Perros</td>\n",
              "      <td>0.0</td>\n",
              "      <td>0</td>\n",
              "      <td>1295</td>\n",
              "      <td>828</td>\n",
              "      <td>Onesize</td>\n",
              "      <td>wallets/lino-perros/lino-perros-women-peach-co...</td>\n",
              "      <td>https://assets.myntassets.com/dpr_2,q_60,w_210...</td>\n",
              "      <td>wallets</td>\n",
              "      <td>lino-perros</td>\n",
              "      <td>467</td>\n",
              "      <td>36</td>\n",
              "    </tr>\n",
              "    <tr>\n",
              "      <th>1</th>\n",
              "      <td>12548958</td>\n",
              "      <td>Men Striped Sliders</td>\n",
              "      <td>Mast &amp; Harbour</td>\n",
              "      <td>4.0</td>\n",
              "      <td>76</td>\n",
              "      <td>1299</td>\n",
              "      <td>584</td>\n",
              "      <td>UK6,UK7,UK8,UK9,UK10,UK11</td>\n",
              "      <td>flip-flops/mast--harbour/mast--harbour-men-nav...</td>\n",
              "      <td>https://assets.myntassets.com/dpr_2,q_60,w_210...</td>\n",
              "      <td>flip-flops</td>\n",
              "      <td>mast--harbour</td>\n",
              "      <td>715</td>\n",
              "      <td>55</td>\n",
              "    </tr>\n",
              "    <tr>\n",
              "      <th>2</th>\n",
              "      <td>13446092</td>\n",
              "      <td>Printed A-line Kurta</td>\n",
              "      <td>Biba</td>\n",
              "      <td>4.3</td>\n",
              "      <td>66</td>\n",
              "      <td>1999</td>\n",
              "      <td>1599</td>\n",
              "      <td>S,M,L,XL,XXL,3XL</td>\n",
              "      <td>kurtas/biba/biba-women-off-white--black-printe...</td>\n",
              "      <td>https://assets.myntassets.com/dpr_2,q_60,w_210...</td>\n",
              "      <td>kurtas</td>\n",
              "      <td>biba</td>\n",
              "      <td>400</td>\n",
              "      <td>20</td>\n",
              "    </tr>\n",
              "    <tr>\n",
              "      <th>3</th>\n",
              "      <td>18017006</td>\n",
              "      <td>Girls Floral Printed T-shirt</td>\n",
              "      <td>Anthrilo</td>\n",
              "      <td>0.0</td>\n",
              "      <td>0</td>\n",
              "      <td>599</td>\n",
              "      <td>539</td>\n",
              "      <td>7-8Y,8-9Y,9-10Y</td>\n",
              "      <td>tshirts/anthrilo/anthrilo-girls-white-floral-p...</td>\n",
              "      <td>https://assets.myntassets.com/dpr_2,q_60,w_210...</td>\n",
              "      <td>tshirts</td>\n",
              "      <td>anthrilo</td>\n",
              "      <td>60</td>\n",
              "      <td>10</td>\n",
              "    </tr>\n",
              "    <tr>\n",
              "      <th>4</th>\n",
              "      <td>18015232</td>\n",
              "      <td>Women Printed Kurta with Skirt</td>\n",
              "      <td>FASHION DWAR</td>\n",
              "      <td>0.0</td>\n",
              "      <td>0</td>\n",
              "      <td>2899</td>\n",
              "      <td>2899</td>\n",
              "      <td>S,M,L,XL</td>\n",
              "      <td>kurta-sets/fashion-dwar/fashion-dwar-women-mul...</td>\n",
              "      <td>https://assets.myntassets.com/dpr_2,q_60,w_210...</td>\n",
              "      <td>kurta-sets</td>\n",
              "      <td>fashion-dwar</td>\n",
              "      <td>0</td>\n",
              "      <td>0</td>\n",
              "    </tr>\n",
              "  </tbody>\n",
              "</table>\n",
              "</div>\n",
              "      <button class=\"colab-df-convert\" onclick=\"convertToInteractive('df-439d6444-1944-4b2e-b978-166638ee3bf7')\"\n",
              "              title=\"Convert this dataframe to an interactive table.\"\n",
              "              style=\"display:none;\">\n",
              "        \n",
              "  <svg xmlns=\"http://www.w3.org/2000/svg\" height=\"24px\"viewBox=\"0 0 24 24\"\n",
              "       width=\"24px\">\n",
              "    <path d=\"M0 0h24v24H0V0z\" fill=\"none\"/>\n",
              "    <path d=\"M18.56 5.44l.94 2.06.94-2.06 2.06-.94-2.06-.94-.94-2.06-.94 2.06-2.06.94zm-11 1L8.5 8.5l.94-2.06 2.06-.94-2.06-.94L8.5 2.5l-.94 2.06-2.06.94zm10 10l.94 2.06.94-2.06 2.06-.94-2.06-.94-.94-2.06-.94 2.06-2.06.94z\"/><path d=\"M17.41 7.96l-1.37-1.37c-.4-.4-.92-.59-1.43-.59-.52 0-1.04.2-1.43.59L10.3 9.45l-7.72 7.72c-.78.78-.78 2.05 0 2.83L4 21.41c.39.39.9.59 1.41.59.51 0 1.02-.2 1.41-.59l7.78-7.78 2.81-2.81c.8-.78.8-2.07 0-2.86zM5.41 20L4 18.59l7.72-7.72 1.47 1.35L5.41 20z\"/>\n",
              "  </svg>\n",
              "      </button>\n",
              "      \n",
              "  <style>\n",
              "    .colab-df-container {\n",
              "      display:flex;\n",
              "      flex-wrap:wrap;\n",
              "      gap: 12px;\n",
              "    }\n",
              "\n",
              "    .colab-df-convert {\n",
              "      background-color: #E8F0FE;\n",
              "      border: none;\n",
              "      border-radius: 50%;\n",
              "      cursor: pointer;\n",
              "      display: none;\n",
              "      fill: #1967D2;\n",
              "      height: 32px;\n",
              "      padding: 0 0 0 0;\n",
              "      width: 32px;\n",
              "    }\n",
              "\n",
              "    .colab-df-convert:hover {\n",
              "      background-color: #E2EBFA;\n",
              "      box-shadow: 0px 1px 2px rgba(60, 64, 67, 0.3), 0px 1px 3px 1px rgba(60, 64, 67, 0.15);\n",
              "      fill: #174EA6;\n",
              "    }\n",
              "\n",
              "    [theme=dark] .colab-df-convert {\n",
              "      background-color: #3B4455;\n",
              "      fill: #D2E3FC;\n",
              "    }\n",
              "\n",
              "    [theme=dark] .colab-df-convert:hover {\n",
              "      background-color: #434B5C;\n",
              "      box-shadow: 0px 1px 3px 1px rgba(0, 0, 0, 0.15);\n",
              "      filter: drop-shadow(0px 1px 2px rgba(0, 0, 0, 0.3));\n",
              "      fill: #FFFFFF;\n",
              "    }\n",
              "  </style>\n",
              "\n",
              "      <script>\n",
              "        const buttonEl =\n",
              "          document.querySelector('#df-439d6444-1944-4b2e-b978-166638ee3bf7 button.colab-df-convert');\n",
              "        buttonEl.style.display =\n",
              "          google.colab.kernel.accessAllowed ? 'block' : 'none';\n",
              "\n",
              "        async function convertToInteractive(key) {\n",
              "          const element = document.querySelector('#df-439d6444-1944-4b2e-b978-166638ee3bf7');\n",
              "          const dataTable =\n",
              "            await google.colab.kernel.invokeFunction('convertToInteractive',\n",
              "                                                     [key], {});\n",
              "          if (!dataTable) return;\n",
              "\n",
              "          const docLinkHtml = 'Like what you see? Visit the ' +\n",
              "            '<a target=\"_blank\" href=https://colab.research.google.com/notebooks/data_table.ipynb>data table notebook</a>'\n",
              "            + ' to learn more about interactive tables.';\n",
              "          element.innerHTML = '';\n",
              "          dataTable['output_type'] = 'display_data';\n",
              "          await google.colab.output.renderOutput(dataTable, element);\n",
              "          const docLink = document.createElement('div');\n",
              "          docLink.innerHTML = docLinkHtml;\n",
              "          element.appendChild(docLink);\n",
              "        }\n",
              "      </script>\n",
              "    </div>\n",
              "  </div>\n",
              "  "
            ]
          },
          "metadata": {},
          "execution_count": 237
        }
      ]
    },
    {
      "cell_type": "code",
      "source": [
        "# Count the number of unique product IDs\n",
        "num_unique_products = df[\"product_id\"].nunique()\n",
        "\n",
        "# Print the result\n",
        "print(\"Number of unique products:\", num_unique_products)"
      ],
      "metadata": {
        "colab": {
          "base_uri": "https://localhost:8080/"
        },
        "id": "clR41yzi1-P6",
        "outputId": "a799e0d6-1bfb-4a35-a4dc-4c38f68339c2"
      },
      "execution_count": 238,
      "outputs": [
        {
          "output_type": "stream",
          "name": "stdout",
          "text": [
            "Number of unique products: 146435\n"
          ]
        }
      ]
    },
    {
      "cell_type": "markdown",
      "source": [
        "## 2. What is the average rating of the products?\n",
        "- Try it without the product that are having rating 0\n",
        "- Try it without the product that are having 0 people given any rating"
      ],
      "metadata": {
        "id": "pmym-PPTEiG1"
      }
    },
    {
      "cell_type": "code",
      "source": [
        "# Filter out products with rating and rating_count of 0\n",
        "df_filtered = df[(df['rating'] > 0) & (df['rating_count'] > 0)]\n",
        "\n",
        "# Calculate the average rating\n",
        "avg_rating = df_filtered['rating'].mean()\n",
        "\n",
        "print(f\"The average rating of the products is {avg_rating:.2f}\")\n"
      ],
      "metadata": {
        "colab": {
          "base_uri": "https://localhost:8080/"
        },
        "id": "yh5RvireFr3v",
        "outputId": "76eb6d49-35e7-4ea6-e848-2a95bcc111e4"
      },
      "execution_count": 239,
      "outputs": [
        {
          "output_type": "stream",
          "name": "stdout",
          "text": [
            "The average rating of the products is 4.17\n"
          ]
        }
      ]
    },
    {
      "cell_type": "markdown",
      "source": [
        "## 3.What is the average discount percentage of the products? "
      ],
      "metadata": {
        "id": "Oxk5vNIAF2zR"
      }
    },
    {
      "cell_type": "code",
      "source": [
        "# Calculate the average discount percentage\n",
        "avg_discount_percent = df['discount_percent'].mean()\n",
        "\n",
        "print(f\"The average discount percentage of the products is {avg_discount_percent:.2f}%\")"
      ],
      "metadata": {
        "colab": {
          "base_uri": "https://localhost:8080/"
        },
        "id": "hQM2jHYqF_D4",
        "outputId": "5adf7072-f9f4-472f-b393-55221861dc3e"
      },
      "execution_count": 240,
      "outputs": [
        {
          "output_type": "stream",
          "name": "stdout",
          "text": [
            "The average discount percentage of the products is 37.15%\n"
          ]
        }
      ]
    },
    {
      "cell_type": "markdown",
      "source": [
        "## 4. What are the top 5 most expensive products?\n",
        "- Make sure that there can be multiple brands with same name so you can take brand ID also into considration"
      ],
      "metadata": {
        "id": "5IhSYqW3GJR1"
      }
    },
    {
      "cell_type": "code",
      "source": [
        "top5_expensive = df.groupby(['product_name']).agg({'marked_price': 'max'}).sort_values(by='marked_price', ascending=False).head(5)\n",
        "top5_expensive"
      ],
      "metadata": {
        "colab": {
          "base_uri": "https://localhost:8080/",
          "height": 237
        },
        "id": "JjuQXMBFGIBg",
        "outputId": "af682a99-3a46-4501-8a60-1ca7309ea2fd"
      },
      "execution_count": 241,
      "outputs": [
        {
          "output_type": "execute_result",
          "data": {
            "text/plain": [
              "                                                    marked_price\n",
              "product_name                                                    \n",
              "Lord Krishna Showpiece                                    113999\n",
              "Durga Maa On Lion Showpiece                                71999\n",
              "Men Stainless Steel Straps Multi Function Autom...         63950\n",
              "Men Leather Straps Multi Function Automatic Mot...         56950\n",
              "Men Stainless Steel Straps Automatic Motion Watch          53950"
            ],
            "text/html": [
              "\n",
              "  <div id=\"df-4eab4ffe-c67e-4b22-a071-e8aec4996c76\">\n",
              "    <div class=\"colab-df-container\">\n",
              "      <div>\n",
              "<style scoped>\n",
              "    .dataframe tbody tr th:only-of-type {\n",
              "        vertical-align: middle;\n",
              "    }\n",
              "\n",
              "    .dataframe tbody tr th {\n",
              "        vertical-align: top;\n",
              "    }\n",
              "\n",
              "    .dataframe thead th {\n",
              "        text-align: right;\n",
              "    }\n",
              "</style>\n",
              "<table border=\"1\" class=\"dataframe\">\n",
              "  <thead>\n",
              "    <tr style=\"text-align: right;\">\n",
              "      <th></th>\n",
              "      <th>marked_price</th>\n",
              "    </tr>\n",
              "    <tr>\n",
              "      <th>product_name</th>\n",
              "      <th></th>\n",
              "    </tr>\n",
              "  </thead>\n",
              "  <tbody>\n",
              "    <tr>\n",
              "      <th>Lord Krishna Showpiece</th>\n",
              "      <td>113999</td>\n",
              "    </tr>\n",
              "    <tr>\n",
              "      <th>Durga Maa On Lion Showpiece</th>\n",
              "      <td>71999</td>\n",
              "    </tr>\n",
              "    <tr>\n",
              "      <th>Men Stainless Steel Straps Multi Function Automatic Motion Watch</th>\n",
              "      <td>63950</td>\n",
              "    </tr>\n",
              "    <tr>\n",
              "      <th>Men Leather Straps Multi Function Automatic Motion Watch</th>\n",
              "      <td>56950</td>\n",
              "    </tr>\n",
              "    <tr>\n",
              "      <th>Men Stainless Steel Straps Automatic Motion Watch</th>\n",
              "      <td>53950</td>\n",
              "    </tr>\n",
              "  </tbody>\n",
              "</table>\n",
              "</div>\n",
              "      <button class=\"colab-df-convert\" onclick=\"convertToInteractive('df-4eab4ffe-c67e-4b22-a071-e8aec4996c76')\"\n",
              "              title=\"Convert this dataframe to an interactive table.\"\n",
              "              style=\"display:none;\">\n",
              "        \n",
              "  <svg xmlns=\"http://www.w3.org/2000/svg\" height=\"24px\"viewBox=\"0 0 24 24\"\n",
              "       width=\"24px\">\n",
              "    <path d=\"M0 0h24v24H0V0z\" fill=\"none\"/>\n",
              "    <path d=\"M18.56 5.44l.94 2.06.94-2.06 2.06-.94-2.06-.94-.94-2.06-.94 2.06-2.06.94zm-11 1L8.5 8.5l.94-2.06 2.06-.94-2.06-.94L8.5 2.5l-.94 2.06-2.06.94zm10 10l.94 2.06.94-2.06 2.06-.94-2.06-.94-.94-2.06-.94 2.06-2.06.94z\"/><path d=\"M17.41 7.96l-1.37-1.37c-.4-.4-.92-.59-1.43-.59-.52 0-1.04.2-1.43.59L10.3 9.45l-7.72 7.72c-.78.78-.78 2.05 0 2.83L4 21.41c.39.39.9.59 1.41.59.51 0 1.02-.2 1.41-.59l7.78-7.78 2.81-2.81c.8-.78.8-2.07 0-2.86zM5.41 20L4 18.59l7.72-7.72 1.47 1.35L5.41 20z\"/>\n",
              "  </svg>\n",
              "      </button>\n",
              "      \n",
              "  <style>\n",
              "    .colab-df-container {\n",
              "      display:flex;\n",
              "      flex-wrap:wrap;\n",
              "      gap: 12px;\n",
              "    }\n",
              "\n",
              "    .colab-df-convert {\n",
              "      background-color: #E8F0FE;\n",
              "      border: none;\n",
              "      border-radius: 50%;\n",
              "      cursor: pointer;\n",
              "      display: none;\n",
              "      fill: #1967D2;\n",
              "      height: 32px;\n",
              "      padding: 0 0 0 0;\n",
              "      width: 32px;\n",
              "    }\n",
              "\n",
              "    .colab-df-convert:hover {\n",
              "      background-color: #E2EBFA;\n",
              "      box-shadow: 0px 1px 2px rgba(60, 64, 67, 0.3), 0px 1px 3px 1px rgba(60, 64, 67, 0.15);\n",
              "      fill: #174EA6;\n",
              "    }\n",
              "\n",
              "    [theme=dark] .colab-df-convert {\n",
              "      background-color: #3B4455;\n",
              "      fill: #D2E3FC;\n",
              "    }\n",
              "\n",
              "    [theme=dark] .colab-df-convert:hover {\n",
              "      background-color: #434B5C;\n",
              "      box-shadow: 0px 1px 3px 1px rgba(0, 0, 0, 0.15);\n",
              "      filter: drop-shadow(0px 1px 2px rgba(0, 0, 0, 0.3));\n",
              "      fill: #FFFFFF;\n",
              "    }\n",
              "  </style>\n",
              "\n",
              "      <script>\n",
              "        const buttonEl =\n",
              "          document.querySelector('#df-4eab4ffe-c67e-4b22-a071-e8aec4996c76 button.colab-df-convert');\n",
              "        buttonEl.style.display =\n",
              "          google.colab.kernel.accessAllowed ? 'block' : 'none';\n",
              "\n",
              "        async function convertToInteractive(key) {\n",
              "          const element = document.querySelector('#df-4eab4ffe-c67e-4b22-a071-e8aec4996c76');\n",
              "          const dataTable =\n",
              "            await google.colab.kernel.invokeFunction('convertToInteractive',\n",
              "                                                     [key], {});\n",
              "          if (!dataTable) return;\n",
              "\n",
              "          const docLinkHtml = 'Like what you see? Visit the ' +\n",
              "            '<a target=\"_blank\" href=https://colab.research.google.com/notebooks/data_table.ipynb>data table notebook</a>'\n",
              "            + ' to learn more about interactive tables.';\n",
              "          element.innerHTML = '';\n",
              "          dataTable['output_type'] = 'display_data';\n",
              "          await google.colab.output.renderOutput(dataTable, element);\n",
              "          const docLink = document.createElement('div');\n",
              "          docLink.innerHTML = docLinkHtml;\n",
              "          element.appendChild(docLink);\n",
              "        }\n",
              "      </script>\n",
              "    </div>\n",
              "  </div>\n",
              "  "
            ]
          },
          "metadata": {},
          "execution_count": 241
        }
      ]
    },
    {
      "cell_type": "markdown",
      "source": [
        "## 5. What are the top 10 brands by the number of products in the dataset?"
      ],
      "metadata": {
        "id": "TEEK4Vz-I0qt"
      }
    },
    {
      "cell_type": "code",
      "source": [
        "# group the data by brand_name and count the number of products for each brand\n",
        "brand_counts = df.groupby('brand_name')['product_id'].count()\n",
        "\n",
        "# sort the results in descending order and select the top 10 brands\n",
        "top_10_brands = brand_counts.sort_values(ascending=False).head(10)\n",
        "\n",
        "# print the top 10 brands\n",
        "top_10_brands\n"
      ],
      "metadata": {
        "colab": {
          "base_uri": "https://localhost:8080/"
        },
        "id": "dBrSxU00GIC4",
        "outputId": "6add8d16-84b8-41b9-b1ff-af99eba82695"
      },
      "execution_count": 242,
      "outputs": [
        {
          "output_type": "execute_result",
          "data": {
            "text/plain": [
              "brand_name\n",
              "Roadster                 4557\n",
              "Mast & Harbour           2398\n",
              "DressBerry               2077\n",
              "H&M                      1998\n",
              "Anouk                    1785\n",
              "max                      1773\n",
              "HRX by Hrithik Roshan    1746\n",
              "Puma                     1668\n",
              "MANGO                    1626\n",
              "HERE&NOW                 1620\n",
              "Name: product_id, dtype: int64"
            ]
          },
          "metadata": {},
          "execution_count": 242
        }
      ]
    },
    {
      "cell_type": "markdown",
      "source": [
        "## 6. List top 5 brands with maxiumum average rating of products?\n",
        "- Neglect the products which are not reviewed by any person"
      ],
      "metadata": {
        "id": "QEmBPqh2Mx7h"
      }
    },
    {
      "cell_type": "code",
      "source": [
        "# filter out products with a rating count of 0\n",
        "new_df = df[df['rating_count'] > 0]\n",
        "\n",
        "# group the data by brand_name and calculate the average rating for each brand\n",
        "brand_ratings = new_df.groupby('brand_name')['rating'].mean()\n",
        "\n",
        "# sort the brands by the average rating in descending order and select the top 5 brands\n",
        "top_5_brands = brand_ratings.sort_values(ascending=False).head(5)\n",
        "top_5_brands"
      ],
      "metadata": {
        "colab": {
          "base_uri": "https://localhost:8080/"
        },
        "id": "CxgvICuBGIFD",
        "outputId": "e35bd114-f4c9-4243-da86-568cb0f10670"
      },
      "execution_count": 243,
      "outputs": [
        {
          "output_type": "execute_result",
          "data": {
            "text/plain": [
              "brand_name\n",
              "1 Stop Fashion    5.0\n",
              "ORTANGE           5.0\n",
              "Tiara             5.0\n",
              "Anahi             5.0\n",
              "Apple             5.0\n",
              "Name: rating, dtype: float64"
            ]
          },
          "metadata": {},
          "execution_count": 243
        }
      ]
    },
    {
      "cell_type": "markdown",
      "source": [
        "## 7. Plot a histogram of the distribution of ratings of following brand.\n",
        "- H&M,\n",
        "max,\n",
        "Puma,\n",
        "MANGO,\n",
        "\n",
        "- Neglect the products which are not reviewed by any person"
      ],
      "metadata": {
        "id": "zrVP3cQTf1RR"
      }
    },
    {
      "cell_type": "code",
      "source": [
        "# Subset the dataset to only include rows for the given brands\n",
        "brands = [\"H&M\", \"max\", \"Puma\", \"MANGO\"]\n",
        "df_subset = df[df[\"brand_name\"].isin(brands) & (df['rating_count'] > 0)]"
      ],
      "metadata": {
        "id": "qjiIweMDs7rA"
      },
      "execution_count": 244,
      "outputs": []
    },
    {
      "cell_type": "code",
      "source": [
        "print(df_subset['brand_name'].unique())"
      ],
      "metadata": {
        "colab": {
          "base_uri": "https://localhost:8080/"
        },
        "id": "r2shjlErs8ar",
        "outputId": "20a36de5-0361-4e42-c3a6-cfb462e36c85"
      },
      "execution_count": 245,
      "outputs": [
        {
          "output_type": "stream",
          "name": "stdout",
          "text": [
            "['H&M' 'MANGO' 'Puma' 'max']\n"
          ]
        }
      ]
    },
    {
      "cell_type": "code",
      "source": [
        "# Group the subsetted dataset by brand_name and calculate the average rating\n",
        "ratings_by_brand = df_subset.groupby(\"brand_name\")[\"rating\"].mean()\n",
        "\n",
        "# Plot the average ratings using a bar chart\n",
        "ratings_by_brand.plot(kind=\"bar\")\n",
        "plt.title(\"Average Ratings by Brand\")\n",
        "plt.xlabel(\"Brand\")\n",
        "plt.ylabel(\"Average Rating\")\n",
        "plt.show()"
      ],
      "metadata": {
        "colab": {
          "base_uri": "https://localhost:8080/",
          "height": 511
        },
        "id": "jA3_TrsGs8cv",
        "outputId": "394c0efb-2033-45c4-9f30-1a4ec36ce12e"
      },
      "execution_count": 246,
      "outputs": [
        {
          "output_type": "display_data",
          "data": {
            "text/plain": [
              "<Figure size 640x480 with 1 Axes>"
            ],
            "image/png": "[encoded data removed]"
          },
          "metadata": {}
        }
      ]
    },
    {
      "cell_type": "markdown",
      "source": [
        "## 8. What is the distribution of discounts by brand for specific brands mentioned below?\n",
        "- H&M\n",
        "max\n",
        "Puma\n",
        "MANGO"
      ],
      "metadata": {
        "id": "rtcd-MSitxTr"
      }
    },
    {
      "cell_type": "code",
      "source": [
        "# Subset the dataset to only include rows for the given brands\n",
        "brands = [\"H&M\", \"max\", \"Puma\", \"MANGO\"]\n",
        "df_subset = df[df[\"brand_name\"].isin(brands)]\n",
        "\n",
        "# Group the subsetted dataset by brand_name and calculate the average discount_percent\n",
        "discount_by_brand = df_subset.groupby(\"brand_name\")[\"discount_percent\"].mean()\n",
        "\n",
        "# Plot the average discount_percent using a bar chart\n",
        "discount_by_brand.plot(kind=\"bar\")\n",
        "plt.title(\"Average Discount Percent by Brand\")\n",
        "plt.xlabel(\"Brand\")\n",
        "plt.ylabel(\"Average Discount Percent\")\n",
        "plt.show()\n"
      ],
      "metadata": {
        "colab": {
          "base_uri": "https://localhost:8080/",
          "height": 511
        },
        "id": "uU8aYKNWtwR1",
        "outputId": "80a3dee4-a57f-4231-ee2e-1a0d400916f9"
      },
      "execution_count": 247,
      "outputs": [
        {
          "output_type": "display_data",
          "data": {
            "text/plain": [
              "<Figure size 640x480 with 1 Axes>"
            ],
            "image/png": "[encoded data removed]"
          },
          "metadata": {}
        }
      ]
    },
    {
      "cell_type": "markdown",
      "source": [
        "## 9. Is there any trend or pattern you can find between discount percent and rating of the product?"
      ],
      "metadata": {
        "id": "U4xB9sqC1TUV"
      }
    },
    {
      "cell_type": "code",
      "source": [
        "# Filter out products with a rating of 0\n",
        "df1 = df[df[\"rating\"] > 0]\n",
        "\n",
        "# Create a scatter plot of discount percent vs. rating\n",
        "plt.figure(figsize=(10, 6))\n",
        "plt.scatter(df1[\"discount_percent\"], df1[\"rating\"])\n",
        "plt.xlabel(\"Discount Percent\")\n",
        "plt.ylabel(\"Rating\")\n",
        "plt.title(\"Relationship between Discount Percent and Rating\")\n",
        "plt.show()"
      ],
      "metadata": {
        "colab": {
          "base_uri": "https://localhost:8080/",
          "height": 564
        },
        "id": "zK5zPzM-zyQf",
        "outputId": "c94b0576-e0df-48d1-859a-6f0fbd138f65"
      },
      "execution_count": 248,
      "outputs": [
        {
          "output_type": "display_data",
          "data": {
            "text/plain": [
              "<Figure size 1000x600 with 1 Axes>"
            ],
            "image/png": "[encoded data removed]"
          },
          "metadata": {}
        }
      ]
    },
    {
      "cell_type": "markdown",
      "source": [
        "## 10. What are the top 10 most popular tags in the dataset?"
      ],
      "metadata": {
        "id": "6eVt5CfzuoCF"
      }
    },
    {
      "cell_type": "code",
      "source": [
        "# Count the frequency of each product_tag in the dataset\n",
        "tag_counts = df[\"product_tag\"].value_counts()\n",
        "\n",
        "# Sort the frequency counts in descending order\n",
        "sorted_tag_counts = tag_counts.sort_values(ascending=False)\n",
        "\n",
        "# Take the top 10 most frequent product_tag\n",
        "top_10_tags = sorted_tag_counts.head(10)\n",
        "\n",
        "# Print the top 10 most frequent product_tag\n",
        "print(top_10_tags)\n"
      ],
      "metadata": {
        "colab": {
          "base_uri": "https://localhost:8080/"
        },
        "id": "zD5cPNy5twUI",
        "outputId": "fbdb5bd3-3594-42c7-e34d-1ea5a958ed96"
      },
      "execution_count": 249,
      "outputs": [
        {
          "output_type": "stream",
          "name": "stdout",
          "text": [
            "tshirts         14909\n",
            "shirts          10664\n",
            "dresses         10360\n",
            "tops             7781\n",
            "kurta-sets       7163\n",
            "kurtas           7086\n",
            "jeans            6960\n",
            "trousers         5147\n",
            "casual-shoes     4722\n",
            "handbags         4373\n",
            "Name: product_tag, dtype: int64\n"
          ]
        }
      ]
    },
    {
      "cell_type": "markdown",
      "source": [
        "## 11. Are there any relations between the rating and number of people who rated the products? "
      ],
      "metadata": {
        "id": "ejNXo3rRyu9h"
      }
    },
    {
      "cell_type": "code",
      "source": [
        "# Subset the dataset to remove rows with rating or rating_count equal to 0\n",
        "relation_df = df[(df[\"rating\"] != 0) & (df[\"rating_count\"] != 0)]\n",
        "\n",
        "# Plot a scatter plot with rating on the x-axis and rating_count on the y-axis\n",
        "plt.scatter(relation_df[\"rating\"], relation_df[\"rating_count\"])\n",
        "plt.title(\"Relationship between Rating and Rating Count\")\n",
        "plt.xlabel(\"Rating\")\n",
        "plt.ylabel(\"Rating Count\")\n",
        "plt.show()\n"
      ],
      "metadata": {
        "colab": {
          "base_uri": "https://localhost:8080/",
          "height": 472
        },
        "id": "xlAmw0EwtwV5",
        "outputId": "9b15c03e-e0ab-4f89-9575-336274e6478f"
      },
      "execution_count": 250,
      "outputs": [
        {
          "output_type": "display_data",
          "data": {
            "text/plain": [
              "<Figure size 640x480 with 1 Axes>"
            ],
            "image/png": "[encoded data removed]"
          },
          "metadata": {}
        }
      ]
    },
    {
      "cell_type": "markdown",
      "source": [
        "## 12. What are the top 10 Most Expensive brands?"
      ],
      "metadata": {
        "id": "MGrJsG-py1IZ"
      }
    },
    {
      "cell_type": "code",
      "source": [
        "# Group the data by brand_name and calculate the mean of marked_price for each brand\n",
        "brand_mean_price = df.groupby(\"brand_name\")[\"marked_price\"].max()\n",
        "\n",
        "# Sort the resulting data frame by mean marked_price in descending order\n",
        "sorted_brands = brand_mean_price.sort_values(ascending=False)\n",
        "\n",
        "# Take the top 10 brands with the highest mean marked_price\n",
        "top_10_brands = sorted_brands.head(10)\n",
        "\n",
        "# Print the top 10 most expensive brands\n",
        "print(top_10_brands)\n"
      ],
      "metadata": {
        "colab": {
          "base_uri": "https://localhost:8080/"
        },
        "id": "BjrUErEutwZh",
        "outputId": "b3bccce9-2e63-4ace-b92d-7295371bbde5"
      },
      "execution_count": 251,
      "outputs": [
        {
          "output_type": "stream",
          "name": "stdout",
          "text": [
            "brand_name\n",
            "eCraftIndia              113999\n",
            "EARNSHAW                  63950\n",
            "D1 Milano                 51000\n",
            "Masaba                    45000\n",
            "dyson                     44900\n",
            "Victorinox                44000\n",
            "Tom Ford                  43900\n",
            "TISSOT                    43500\n",
            "Versace Jeans Couture     41000\n",
            "Calvin Klein              40900\n",
            "Name: marked_price, dtype: int64\n"
          ]
        }
      ]
    },
    {
      "cell_type": "markdown",
      "source": [
        "## 13. What are the top 10 Most Expensive Product Category? "
      ],
      "metadata": {
        "id": "KSO-EWwxy-A4"
      }
    },
    {
      "cell_type": "code",
      "source": [
        "# Group the data by product_tag and calculate the mean of marked_price for each product tag\n",
        "product_tag_mean_price = df.groupby(\"product_tag\")[\"marked_price\"].max()\n",
        "\n",
        "# Sort the resulting data frame by mean marked_price in descending order\n",
        "sorted_product_tags = product_tag_mean_price.sort_values(ascending=False)\n",
        "\n",
        "# Take the top 10 product tags with the highest mean marked_price\n",
        "top_10_product_tags = sorted_product_tags.head(10)\n",
        "\n",
        "# Print the top 10 most expensive product tags\n",
        "print(top_10_product_tags)"
      ],
      "metadata": {
        "colab": {
          "base_uri": "https://localhost:8080/"
        },
        "id": "m5JfmMnEtwda",
        "outputId": "dd4e0f02-73b9-4025-b845-657008172f30"
      },
      "execution_count": 252,
      "outputs": [
        {
          "output_type": "stream",
          "name": "stdout",
          "text": [
            "product_tag\n",
            "showpieces        113999\n",
            "watches            63950\n",
            "lehenga-choli      45000\n",
            "hair-appliance     44900\n",
            "sunglasses         43900\n",
            "jeans              41000\n",
            "trolley-bag        40900\n",
            "carpets            40350\n",
            "tshirts            40000\n",
            "shirts             39000\n",
            "Name: marked_price, dtype: int64\n"
          ]
        }
      ]
    },
    {
      "cell_type": "markdown",
      "source": [
        "## 14. Analyse the Violen Plot of watches of following brands mentioned below ?\n",
        "- Take brand_tag as tommy-hilfiger, daniel-wellington, armani-exchange, emporio-armani, earnshaw, tissot"
      ],
      "metadata": {
        "id": "piHHZJKCzJyE"
      }
    },
    {
      "cell_type": "code",
      "source": [
        "# Subset the dataset to include only watches from the specified brands\n",
        "brands = [\"tommy-hilfiger\", \"daniel-wellington\", \"armani-exchange\", \"emporio-armani\", \"earnshaw\", \"tissot\"]\n",
        "brands_df = df[(df[\"product_tag\"] == \"watches\") & (df[\"brand_tag\"].isin(brands))]\n",
        "\n",
        "# Create a violin plot of the marked_price for each brand\n",
        "sns.violinplot(x=\"brand_tag\", y=\"marked_price\", data=brands_df)\n",
        "plt.xticks(rotation=45, ha='right')\n",
        "plt.show()\n"
      ],
      "metadata": {
        "colab": {
          "base_uri": "https://localhost:8080/",
          "height": 531
        },
        "id": "pFiC1jGItwfQ",
        "outputId": "100e0265-0556-46be-a188-542f17a2aa23"
      },
      "execution_count": 253,
      "outputs": [
        {
          "output_type": "display_data",
          "data": {
            "text/plain": [
              "<Figure size 640x480 with 1 Axes>"
            ],
            "image/png": "[encoded data removed]"
          },
          "metadata": {}
        }
      ]
    },
    {
      "cell_type": "markdown",
      "source": [
        "## 15. List top 5 brands which are having most wide range or products"
      ],
      "metadata": {
        "id": "yEpcbywCzXxz"
      }
    },
    {
      "cell_type": "code",
      "source": [
        "# Count the number of unique product_ids for each brand\n",
        "brand_product_counts = df.groupby(\"brand_name\")[\"product_id\"].nunique()\n",
        "\n",
        "# Sort the counts in descending order and print the top 5\n",
        "top_brands = brand_product_counts.sort_values(ascending=False)[:5]\n",
        "print(top_brands)\n"
      ],
      "metadata": {
        "colab": {
          "base_uri": "https://localhost:8080/"
        },
        "id": "sAXeNzDltwjZ",
        "outputId": "1ad3037b-ed8d-46f7-c099-55cfe79355aa"
      },
      "execution_count": 254,
      "outputs": [
        {
          "output_type": "stream",
          "name": "stdout",
          "text": [
            "brand_name\n",
            "Roadster          4557\n",
            "Mast & Harbour    2397\n",
            "DressBerry        2073\n",
            "H&M               1998\n",
            "Anouk             1784\n",
            "Name: product_id, dtype: int64\n"
          ]
        }
      ]
    },
    {
      "cell_type": "markdown",
      "source": [
        "## Insight Report:\n",
        "\n",
        "From the data analysis, we can observe that the most popular product types are casual wear like t-shirts, shirts, jeans, and dresses, which are widely sold in the market. Most of the customers are rating the products between 4-5, indicating that the products are of good quality and meet the expectations of the customers.\n",
        "\n",
        "The top 10 brands with the maximum number of products are mainly clothing brands like Roadster, Mast & Harbour, DressBerry, H&M, Anouk, max, HRX by Hrithik Roshan, Puma, MANGO, and HERE&NOW. These brands offer a wide range of products and are popular among customers.\n",
        "\n",
        "In terms of pricing, we found that eCraftIndia, EARNSHAW, D1 Milano, Masaba, dyson, Victorinox, Tom Ford, TISSOT, Versace Jeans Couture, and Calvin Klein are the most expensive brands. The most expensive product categories are showpieces, watches, lehenga-choli, hair appliances, sunglasses, jeans, trolley bags, carpets, t-shirts, and shirts.\n",
        "\n",
        "We also analyzed the relationship between the discount percentage and rating of the products. It was found that products with a higher discount percentage tend to have a lower rating. However, further analysis using scatter plots and regression analysis can provide a better understanding of this relationship.\n",
        "\n",
        "Overall, this analysis provides valuable insights into the product offerings and pricing of different brands, which can be useful for customers and businesses alike."
      ],
      "metadata": {
        "id": "tBQY-Tam6XEJ"
      }
    }
  ]
}